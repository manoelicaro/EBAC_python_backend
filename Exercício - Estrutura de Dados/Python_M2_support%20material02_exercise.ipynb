{
  "cells": [
    {
      "cell_type": "markdown",
      "metadata": {
        "id": "KJqp9AANOCtf"
      },
      "source": [
        "<img src=\"https://raw.githubusercontent.com/andre-marcos-perez/ebac-course-utils/main/media/logo/newebac_logo_black_half.png\" alt=\"ebac-logo\">\n",
        "\n",
        "---\n",
        "\n",
        "# **Módulo** | Python: Estruturas de Dados\n",
        "Caderno de **Exercícios**<br> \n",
        "Professor [André Perez](https://www.linkedin.com/in/andremarcosperez/)\n",
        "\n",
        "---"
      ]
    },
    {
      "cell_type": "markdown",
      "metadata": {
        "id": "d9jDtUbDOE1-"
      },
      "source": [
        "# **Tópicos**\n",
        "\n",
        "<ol type=\"1\">\n",
        "  <li>Listas;</li>\n",
        "  <li>Conjuntos;</li>\n",
        "  <li>Dicionários.</li>\n",
        "</ol>"
      ]
    },
    {
      "cell_type": "markdown",
      "metadata": {
        "id": "SmoHgt-lwkpD"
      },
      "source": [
        "---"
      ]
    },
    {
      "cell_type": "markdown",
      "metadata": {
        "id": "GABI6OW8OfQ2"
      },
      "source": [
        "# **Exercícios**"
      ]
    },
    {
      "cell_type": "markdown",
      "metadata": {
        "id": "muD1vxozykSC"
      },
      "source": [
        "## 1\\. Listas"
      ]
    },
    {
      "cell_type": "markdown",
      "metadata": {
        "id": "ahrFfCuBxJKs"
      },
      "source": [
        "Criei uma lista chamada `filmes` com o nome dos 10 primeiros filmes mais bem avaliados no site no [IMDB](https://www.imdb.com/chart/top/). Imprima o resultado."
      ]
    },
    {
      "cell_type": "code",
      "execution_count": null,
      "metadata": {
        "id": "OgL6Hv3bzOHI"
      },
      "outputs": [],
      "source": [
        "filmes = [...]"
      ]
    },
    {
      "cell_type": "code",
      "execution_count": 1,
      "metadata": {},
      "outputs": [
        {
          "name": "stdout",
          "output_type": "stream",
          "text": [
            "['Um sonho de Liberdade', 'O Poderoso Chefão', 'Batman: O Cavaleiro das Trevas', 'O Poderoso Chefão: Parte II', '12 Homens e uma Sentença', 'O Senhor dos Anéis: O Retorno do Rei', 'A Lista de Schindler', 'Pulp Fiction: Tempo de Violência', 'O Senhor dos Anéis: A Sociedade do Anel', 'Três Homens em Conflito']\n"
          ]
        }
      ],
      "source": [
        "filmes = [\"Um sonho de Liberdade\",\"O Poderoso Chefão\",\"Batman: O Cavaleiro das Trevas\",\"O Poderoso Chefão: Parte II\",\"12 Homens e uma Sentença\",\"O Senhor dos Anéis: O Retorno do Rei\",\"A Lista de Schindler\",\"Pulp Fiction: Tempo de Violência\",\"O Senhor dos Anéis: A Sociedade do Anel\",\"Três Homens em Conflito\"]\n",
        "\n",
        "print(filmes)"
      ]
    },
    {
      "cell_type": "markdown",
      "metadata": {
        "id": "KI9zQRT2xa7m"
      },
      "source": [
        "Simule a movimentação do *ranking*. Utilize os métodos `insert` e `pop` para trocar a posição do primeiro e do segundo filme da lista. Imprima o resultado.\n",
        "\n"
      ]
    },
    {
      "cell_type": "code",
      "execution_count": 2,
      "metadata": {
        "id": "zX3mA3_GzrXH"
      },
      "outputs": [
        {
          "name": "stdout",
          "output_type": "stream",
          "text": [
            "['O Poderoso Chefão', 'Um sonho de Liberdade', 'Batman: O Cavaleiro das Trevas', 'O Poderoso Chefão: Parte II', '12 Homens e uma Sentença', 'O Senhor dos Anéis: O Retorno do Rei', 'A Lista de Schindler', 'Pulp Fiction: Tempo de Violência', 'O Senhor dos Anéis: A Sociedade do Anel', 'Três Homens em Conflito']\n"
          ]
        }
      ],
      "source": [
        "primeiro = filmes.pop(1)\n",
        "segundo = filmes.pop(0)\n",
        "\n",
        "filmes.insert(0, primeiro)\n",
        "filmes.insert(1, segundo)\n",
        "\n",
        "print(filmes)"
      ]
    },
    {
      "cell_type": "markdown",
      "metadata": {
        "id": "zMN1Q3jdwoJm"
      },
      "source": [
        "---"
      ]
    },
    {
      "cell_type": "markdown",
      "metadata": {
        "id": "lxa5L6uF0ZJE"
      },
      "source": [
        "## 2\\. Conjuntos"
      ]
    },
    {
      "cell_type": "markdown",
      "metadata": {
        "id": "9JahS2Kj0d5u"
      },
      "source": [
        "Aconteceu um erro no seu *ranking*. Simule a duplicação dos três últimos filmes da lista. Imprima o resultado."
      ]
    },
    {
      "cell_type": "code",
      "execution_count": 9,
      "metadata": {
        "id": "BnjnLBNC6PGe"
      },
      "outputs": [
        {
          "name": "stdout",
          "output_type": "stream",
          "text": [
            "['O Poderoso Chefão', 'Um sonho de Liberdade', 'Batman: O Cavaleiro das Trevas', 'O Poderoso Chefão: Parte II', '12 Homens e uma Sentença', 'O Senhor dos Anéis: O Retorno do Rei', 'A Lista de Schindler', 'Pulp Fiction: Tempo de Violência', 'Pulp Fiction: Tempo de Violência', 'O Senhor dos Anéis: A Sociedade do Anel', 'Pulp Fiction: Tempo de Violência', 'Três Homens em Conflito', 'O Senhor dos Anéis: A Sociedade do Anel', 'O Senhor dos Anéis: A Sociedade do Anel', 'Três Homens em Conflito', 'Três Homens em Conflito']\n"
          ]
        }
      ],
      "source": [
        "filmes.insert(7, \"Pulp Fiction: Tempo de Violência\")\n",
        "filmes.insert(9, \"O Senhor dos Anéis: A Sociedade do Anel\")\n",
        "filmes.insert(11, \"Três Homens em Conflito\")\n",
        "\n",
        "print(filmes)"
      ]
    },
    {
      "cell_type": "markdown",
      "metadata": {
        "id": "suxTfCJB6ZiX"
      },
      "source": [
        "Utiliza a conversão `set` e `list` para remover os valores duplicados. Imprima o resultado. "
      ]
    },
    {
      "cell_type": "code",
      "execution_count": 13,
      "metadata": {
        "id": "ZvUGN-0n6joM"
      },
      "outputs": [
        {
          "name": "stdout",
          "output_type": "stream",
          "text": [
            "{'Batman: O Cavaleiro das Trevas', 'A Lista de Schindler', 'Um sonho de Liberdade', 'O Senhor dos Anéis: O Retorno do Rei', 'Três Homens em Conflito', 'O Poderoso Chefão', '12 Homens e uma Sentença', 'Pulp Fiction: Tempo de Violência', 'O Poderoso Chefão: Parte II', 'O Senhor dos Anéis: A Sociedade do Anel'}\n",
            "10\n"
          ]
        }
      ],
      "source": [
        "filmes_sem_duplicatas = set(filmes)\n",
        "\n",
        "print(filmes_sem_duplicatas)\n",
        "print(len(filmes_sem_duplicatas))"
      ]
    },
    {
      "cell_type": "markdown",
      "metadata": {
        "id": "ShkK35eQ6pAM"
      },
      "source": [
        "---"
      ]
    },
    {
      "cell_type": "markdown",
      "metadata": {
        "id": "EL_FzmxL6rTv"
      },
      "source": [
        "## 3\\. Dicionários"
      ]
    },
    {
      "cell_type": "markdown",
      "metadata": {
        "id": "i8l0gFqRCpfT"
      },
      "source": [
        "Repita os exercícios da parte 1 (listas). Os elementos da lista `filmes` devem ser dicionários no seguinte formato: `{'nome': <nome-do-filme>, 'ano': <ano do filme>}, 'sinopse': <sinopse do filme>}`. "
      ]
    },
    {
      "cell_type": "code",
      "execution_count": 15,
      "metadata": {
        "id": "tu6MSFwGDnHv"
      },
      "outputs": [
        {
          "name": "stdout",
          "output_type": "stream",
          "text": [
            "{'top 1': {'nome': 'Um Sonho de Liberdade', 'ano': '1994', 'sinopse': 'Um homem condenado à prisão cria laços de amizade e luta por sua liberdade.'}, 'top 2': {'nome': 'O Poderoso Chefão', 'ano': '1972', 'sinopse': 'A saga da família Coeleone em meio ao mundo dos mafiosos dos EUA.'}, 'top 3': {'nome': 'Batman: O Cavaleiro das Trevas', 'ano': '2008', 'sinopse': 'Batman enfrenta o psicótico Coringa em uma batalha pela alma de Gotham.'}, 'top 4': {'nome': 'O Poderoso Chefão: Parte II', 'ano': '1974', 'sinopse': 'A história de Michael Corleone enquanto explora as origens de sua família.'}, 'top 5': {'nome': '12 Homens e uma Sentença', 'ano': '1957', 'sinopse': 'Doze jurados debatem intensamente um caso de homicídio em busca da verdade.'}, 'top 6': {'nome': 'O Senhor dos Anéis: O Retorno do Rei', 'ano': '2003', 'sinopse': 'O destino da Terra Média é decidido enquanto Frodo se aproxima de Mordor.'}, 'top 7': {'nome': 'A Lista de Schindler', 'ano': '1993', 'sinopse': 'Um empresário alemão salva vidas de judeus durante o Holocausto.'}, 'top 8': {'nome': 'Pulp Fiction: Tempo de Violência', 'ano': '1994', 'sinopse': 'Histórias cruzadas de criminosos revelam o lado sombrio e absurdo da vida.'}, 'top 9': {'nome': 'O Senhor dos Anéis: A Sociedade do Anel', 'ano': '2001', 'sinopse': 'Um grupo é formado para destruir o poderoso anel que ameaça o mundo.'}, 'top 10': {'nome': 'Três Homens em Conflito', 'ano': '1966', 'sinopse': 'Três pistoleiros rivais competem por um tesouro escondido.'}}\n"
          ]
        }
      ],
      "source": [
        "top_filmes = {\n",
        "    \"top 1\": {\n",
        "        \"nome\": \"Um Sonho de Liberdade\",\n",
        "        \"ano\": \"1994\",\n",
        "        \"sinopse\": \"Um homem condenado à prisão cria laços de amizade e luta por sua liberdade.\"\n",
        "    },\n",
        "    \"top 2\": {\n",
        "        \"nome\": \"O Poderoso Chefão\",\n",
        "        \"ano\": \"1972\",\n",
        "        \"sinopse\": \"A saga da família Coeleone em meio ao mundo dos mafiosos dos EUA.\"\n",
        "    },\n",
        "    \"top 3\": {\n",
        "        \"nome\": \"Batman: O Cavaleiro das Trevas\",\n",
        "        \"ano\": \"2008\",\n",
        "        \"sinopse\": \"Batman enfrenta o psicótico Coringa em uma batalha pela alma de Gotham.\"\n",
        "    },\n",
        "    \"top 4\": {\n",
        "        \"nome\": \"O Poderoso Chefão: Parte II\",\n",
        "        \"ano\": \"1974\",\n",
        "        \"sinopse\": \"A história de Michael Corleone enquanto explora as origens de sua família.\" \n",
        "    },\n",
        "    \"top 5\": {\n",
        "        \"nome\": \"12 Homens e uma Sentença\",\n",
        "        \"ano\": \"1957\",\n",
        "        \"sinopse\": \"Doze jurados debatem intensamente um caso de homicídio em busca da verdade.\"\n",
        "    },\n",
        "    \"top 6\": {\n",
        "        \"nome\": \"O Senhor dos Anéis: O Retorno do Rei\",\n",
        "        \"ano\": \"2003\",\n",
        "        \"sinopse\": \"O destino da Terra Média é decidido enquanto Frodo se aproxima de Mordor.\"\n",
        "    },\n",
        "    \"top 7\": {\n",
        "        \"nome\": \"A Lista de Schindler\",\n",
        "        \"ano\": \"1993\",\n",
        "        \"sinopse\": \"Um empresário alemão salva vidas de judeus durante o Holocausto.\"\n",
        "    },\n",
        "    \"top 8\": {\n",
        "        \"nome\": \"Pulp Fiction: Tempo de Violência\",\n",
        "        \"ano\": \"1994\",\n",
        "        \"sinopse\": \"Histórias cruzadas de criminosos revelam o lado sombrio e absurdo da vida.\"\n",
        "    },\n",
        "    \"top 9\": {\n",
        "        \"nome\": \"O Senhor dos Anéis: A Sociedade do Anel\",\n",
        "        \"ano\": \"2001\",\n",
        "        \"sinopse\": \"Um grupo é formado para destruir o poderoso anel que ameaça o mundo.\"\n",
        "    },\n",
        "    \"top 10\": {\n",
        "        \"nome\": \"Três Homens em Conflito\",\n",
        "        \"ano\": \"1966\",\n",
        "        \"sinopse\": \"Três pistoleiros rivais competem por um tesouro escondido.\"\n",
        "    }\n",
        "}\n",
        "\n",
        "print(top_filmes)"
      ]
    }
  ],
  "metadata": {
    "colab": {
      "collapsed_sections": [],
      "name": "module_2_exercise.ipynb",
      "provenance": [],
      "toc_visible": true
    },
    "kernelspec": {
      "display_name": "Python 3",
      "name": "python3"
    },
    "language_info": {
      "codemirror_mode": {
        "name": "ipython",
        "version": 3
      },
      "file_extension": ".py",
      "mimetype": "text/x-python",
      "name": "python",
      "nbconvert_exporter": "python",
      "pygments_lexer": "ipython3",
      "version": "3.12.6"
    }
  },
  "nbformat": 4,
  "nbformat_minor": 0
}
